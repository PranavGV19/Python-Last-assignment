{
 "cells": [
  {
   "cell_type": "code",
   "execution_count": 2,
   "id": "2eeb2264",
   "metadata": {},
   "outputs": [],
   "source": [
    "from MF import MultipleFunctions"
   ]
  },
  {
   "cell_type": "code",
   "execution_count": 3,
   "id": "95838566",
   "metadata": {},
   "outputs": [
    {
     "name": "stdout",
     "output_type": "stream",
     "text": [
      "Sub-Fields in AI are\n",
      "Machine Learning\n",
      "Neural Networks\n",
      "Vision\n",
      "Robotics\n",
      "Speech Processing\n",
      "Natural Language Processing\n"
     ]
    }
   ],
   "source": [
    "MultipleFunctions.SubFields()"
   ]
  },
  {
   "cell_type": "code",
   "execution_count": 4,
   "id": "a713dbea",
   "metadata": {},
   "outputs": [
    {
     "name": "stdout",
     "output_type": "stream",
     "text": [
      "Enter a number to check: 45\n",
      "45 is an Odd number\n"
     ]
    }
   ],
   "source": [
    "MultipleFunctions.oddeven()"
   ]
  },
  {
   "cell_type": "code",
   "execution_count": 5,
   "id": "29d03dc2",
   "metadata": {},
   "outputs": [
    {
     "name": "stdout",
     "output_type": "stream",
     "text": [
      "Subject1= 45\n",
      "Subject2= 65\n",
      "Subject3= 75\n",
      "Subject4= 86\n",
      "Subject5= 96\n",
      "Total:  367\n",
      "Percentage:  73.4\n"
     ]
    }
   ],
   "source": [
    "MultipleFunctions.percentage()"
   ]
  },
  {
   "cell_type": "code",
   "execution_count": 6,
   "id": "383ccc96",
   "metadata": {},
   "outputs": [
    {
     "name": "stdout",
     "output_type": "stream",
     "text": [
      "Height: 4\n",
      "Breadth: 5\n",
      "Area formula: (Height * Breadth) / 2\n",
      "Area of Triangle:  10.0\n",
      "Height1: 4\n",
      "Height2: 5\n",
      "Breadth: 6\n",
      "Perimeter formula: Height1 + Height2 + Breadth\n",
      "Perimeter of Triangle:  15.0\n"
     ]
    }
   ],
   "source": [
    "MultipleFunctions.triangle()"
   ]
  },
  {
   "cell_type": "code",
   "execution_count": 7,
   "id": "5c991200",
   "metadata": {},
   "outputs": [
    {
     "name": "stdout",
     "output_type": "stream",
     "text": [
      "Enter your gender: Male\n",
      "Enter your age: 34\n",
      "ELIGIBLE\n"
     ]
    }
   ],
   "source": [
    "MultipleFunctions.eligible()"
   ]
  },
  {
   "cell_type": "code",
   "execution_count": null,
   "id": "f3e6d602",
   "metadata": {},
   "outputs": [],
   "source": []
  }
 ],
 "metadata": {
  "kernelspec": {
   "display_name": "Python 3 (ipykernel)",
   "language": "python",
   "name": "python3"
  },
  "language_info": {
   "codemirror_mode": {
    "name": "ipython",
    "version": 3
   },
   "file_extension": ".py",
   "mimetype": "text/x-python",
   "name": "python",
   "nbconvert_exporter": "python",
   "pygments_lexer": "ipython3",
   "version": "3.11.7"
  }
 },
 "nbformat": 4,
 "nbformat_minor": 5
}
