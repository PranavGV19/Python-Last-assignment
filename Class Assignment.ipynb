{
 "cells": [
  {
   "cell_type": "code",
   "execution_count": 2,
   "id": "cb3faca0",
   "metadata": {},
   "outputs": [],
   "source": [
    "class SubfieldsinAI():\n",
    "    def SubFields():\n",
    "        print(\"Sub-Fields in AI are\")\n",
    "        list = ['Machine Learning', 'Neural Networks', 'Vision', 'Robotics', 'Speech Processing','Natural Language Processing']\n",
    "        for temp in list:\n",
    "            print(temp)"
   ]
  },
  {
   "cell_type": "code",
   "execution_count": 4,
   "id": "4bde26bb",
   "metadata": {},
   "outputs": [
    {
     "name": "stdout",
     "output_type": "stream",
     "text": [
      "Sub-Fields in AI are\n",
      "Machine Learning\n",
      "Neural Networks\n",
      "Vision\n",
      "Robotics\n",
      "Speech Processing\n",
      "Natural Language Processing\n"
     ]
    }
   ],
   "source": [
    "SubfieldsinAI.SubFields()"
   ]
  },
  {
   "cell_type": "code",
   "execution_count": 6,
   "id": "15e9a064",
   "metadata": {},
   "outputs": [],
   "source": [
    "class OddEven():\n",
    "    def oddeven():\n",
    "        num = int(input(\"Enter a number to check: \"))\n",
    "        if num%2==0:\n",
    "            print(f\"{num} is an Even Number\")\n",
    "        else:\n",
    "            print(f\"{num} is an Odd number\")\n",
    "\n"
   ]
  },
  {
   "cell_type": "code",
   "execution_count": 7,
   "id": "fa2b7b16",
   "metadata": {},
   "outputs": [
    {
     "name": "stdout",
     "output_type": "stream",
     "text": [
      "Enter a number to check: 67\n",
      "67 is an Odd number\n"
     ]
    }
   ],
   "source": [
    "OddEven.oddeven()"
   ]
  },
  {
   "cell_type": "code",
   "execution_count": 30,
   "id": "227802ce",
   "metadata": {},
   "outputs": [],
   "source": [
    "class EligibilityForMarriage:\n",
    "    def eligible():\n",
    "        gender = input(\"Enter your gender: \")\n",
    "        age = int(input(\"Enter your age: \"))\n",
    "        if gender == \"Male\":\n",
    "            if age >= 21:\n",
    "                print(\"ELIGIBLE\")\n",
    "            else:\n",
    "                print(\"INELIGIBLE\")\n",
    "        elif gender == \"Female\":\n",
    "            if age >= 18:\n",
    "                print(\"ELIGIBLE\")\n",
    "            else:\n",
    "                print(\"INELIGIBLE\")\n",
    "        else:\n",
    "            print(\"INVALID GENDER\")\n"
   ]
  },
  {
   "cell_type": "code",
   "execution_count": 33,
   "id": "8d062e95",
   "metadata": {},
   "outputs": [
    {
     "name": "stdout",
     "output_type": "stream",
     "text": [
      "Enter your gender: Female\n",
      "Enter your age: 32\n",
      "ELIGIBLE\n"
     ]
    }
   ],
   "source": [
    "EligibilityForMarriage.eligible()\n"
   ]
  },
  {
   "cell_type": "code",
   "execution_count": 17,
   "id": "14f9e333",
   "metadata": {},
   "outputs": [
    {
     "ename": "TypeError",
     "evalue": "EligiblityForMarriage.Eligible() takes 0 positional arguments but 1 was given",
     "output_type": "error",
     "traceback": [
      "\u001b[0;31m---------------------------------------------------------------------------\u001b[0m",
      "\u001b[0;31mTypeError\u001b[0m                                 Traceback (most recent call last)",
      "Cell \u001b[0;32mIn[17], line 1\u001b[0m\n\u001b[0;32m----> 1\u001b[0m EligiblityForMarriage()\u001b[38;5;241m.\u001b[39mEligible()\n",
      "\u001b[0;31mTypeError\u001b[0m: EligiblityForMarriage.Eligible() takes 0 positional arguments but 1 was given"
     ]
    }
   ],
   "source": [
    "def triangle():\n",
    "    height = float(input(\"Height: \"))\n",
    "    breadth = float(input(\"Breadth: \"))\n",
    "    area = (height * breadth) / 2\n",
    "    print(\"Area formula: (Height * Breadth) / 2\")\n",
    "    print(\"Area of Triangle: \", area)\n",
    "    \n",
    "    height1 = float(input(\"Height1: \"))\n",
    "    height2 = float(input(\"Height2: \"))\n",
    "    breadth = float(input(\"Breadth: \"))\n",
    "    perimeter = height1 + height2 + breadth\n",
    "    print(\"Perimeter formula: Height1 + Height2 + Breadth\")\n",
    "    print(\"Perimeter of Triangle: \", perimeter)"
   ]
  },
  {
   "cell_type": "code",
   "execution_count": 18,
   "id": "e15d75c6",
   "metadata": {},
   "outputs": [],
   "source": [
    "class FindPercent():\n",
    "    def percentage():\n",
    "    \n",
    "        m1 = int(input(\"Subject1= \"))\n",
    "        m2 = int(input(\"Subject2= \"))\n",
    "        m3 = int(input(\"Subject3= \"))\n",
    "        m4 = int(input(\"Subject4= \"))\n",
    "        m5 = int(input(\"Subject5= \"))\n",
    "        \n",
    "        Total = m1 + m2 + m3 + m4 + m5\n",
    "        print(\"Total: \", Total)\n",
    "        \n",
    "        Percent = (Total / 500) * 100\n",
    "        print(\"Percentage: \", Percent)\n"
   ]
  },
  {
   "cell_type": "code",
   "execution_count": 20,
   "id": "cacd9373",
   "metadata": {},
   "outputs": [
    {
     "name": "stdout",
     "output_type": "stream",
     "text": [
      "Subject1= 45\n",
      "Subject2= 98\n",
      "Subject3= 89\n",
      "Subject4= 98\n",
      "Subject5= 56\n",
      "Total:  386\n",
      "Percentage:  77.2\n"
     ]
    }
   ],
   "source": [
    "FindPercent.percentage()"
   ]
  },
  {
   "cell_type": "code",
   "execution_count": 22,
   "id": "f3484e16",
   "metadata": {},
   "outputs": [],
   "source": [
    "class triangle:\n",
    "    def triangle():\n",
    "        height = float(input(\"Height: \"))\n",
    "        breadth = float(input(\"Breadth: \"))\n",
    "        area = (height * breadth) / 2\n",
    "        print(\"Area formula: (Height * Breadth) / 2\")\n",
    "        print(\"Area of Triangle: \", area)\n",
    "    \n",
    "        height1 = float(input(\"Height1: \"))\n",
    "        height2 = float(input(\"Height2: \"))\n",
    "        breadth = float(input(\"Breadth: \"))\n",
    "        perimeter = height1 + height2 + breadth\n",
    "        print(\"Perimeter formula: Height1 + Height2 + Breadth\")\n",
    "        print(\"Perimeter of Triangle: \", perimeter)"
   ]
  },
  {
   "cell_type": "code",
   "execution_count": 23,
   "id": "a63cca5d",
   "metadata": {},
   "outputs": [
    {
     "name": "stdout",
     "output_type": "stream",
     "text": [
      "Height: 56\n",
      "Breadth: 45\n",
      "Area formula: (Height * Breadth) / 2\n",
      "Area of Triangle:  1260.0\n",
      "Height1: 43\n",
      "Height2: 34\n",
      "Breadth: 66\n",
      "Perimeter formula: Height1 + Height2 + Breadth\n",
      "Perimeter of Triangle:  143.0\n"
     ]
    }
   ],
   "source": [
    "triangle.triangle()"
   ]
  },
  {
   "cell_type": "code",
   "execution_count": null,
   "id": "d2518445",
   "metadata": {},
   "outputs": [],
   "source": []
  }
 ],
 "metadata": {
  "kernelspec": {
   "display_name": "Python 3 (ipykernel)",
   "language": "python",
   "name": "python3"
  },
  "language_info": {
   "codemirror_mode": {
    "name": "ipython",
    "version": 3
   },
   "file_extension": ".py",
   "mimetype": "text/x-python",
   "name": "python",
   "nbconvert_exporter": "python",
   "pygments_lexer": "ipython3",
   "version": "3.11.7"
  }
 },
 "nbformat": 4,
 "nbformat_minor": 5
}
